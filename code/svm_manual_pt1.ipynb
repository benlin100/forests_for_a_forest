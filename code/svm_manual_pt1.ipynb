{
 "cells": [
  {
   "cell_type": "markdown",
   "metadata": {},
   "source": [
    "# SVM - One Vs All Method  - Building 7 Models "
   ]
  },
  {
   "cell_type": "code",
   "execution_count": 1,
   "metadata": {},
   "outputs": [
    {
     "name": "stderr",
     "output_type": "stream",
     "text": [
      "/anaconda3/lib/python3.6/site-packages/sklearn/cross_validation.py:41: DeprecationWarning: This module was deprecated in version 0.18 in favor of the model_selection module into which all the refactored classes and functions are moved. Also note that the interface of the new CV iterators are different from that of this module. This module will be removed in 0.20.\n",
      "  \"This module will be removed in 0.20.\", DeprecationWarning)\n",
      "/anaconda3/lib/python3.6/site-packages/sklearn/grid_search.py:42: DeprecationWarning: This module was deprecated in version 0.18 in favor of the model_selection module into which all the refactored classes and functions are moved. This module will be removed in 0.20.\n",
      "  DeprecationWarning)\n"
     ]
    }
   ],
   "source": [
    "import os.path\n",
    "import pandas as pd\n",
    "import numpy as np \n",
    "\n",
    "from sklearn.cross_validation import train_test_split\n",
    "from sklearn.datasets import load_digits\n",
    "from sklearn.grid_search import GridSearchCV\n",
    "from sklearn.metrics import make_scorer, \\\n",
    "    hamming_loss\n",
    "from sklearn.pipeline import Pipeline\n",
    "from sklearn.preprocessing import StandardScaler, Imputer\n",
    "from sklearn.svm import SVC"
   ]
  },
  {
   "cell_type": "code",
   "execution_count": 2,
   "metadata": {
    "collapsed": true
   },
   "outputs": [],
   "source": [
    "DATA_DIR = os.path.join(\"tree_FINAL\")\n",
    "tree_data = pd.read_csv(DATA_DIR, index_col=0)\n",
    "pd.set_option('display.max_columns', 1000)"
   ]
  },
  {
   "cell_type": "code",
   "execution_count": 3,
   "metadata": {
    "collapsed": true
   },
   "outputs": [],
   "source": [
    "#let's drop some of the columns we won't need\n",
    "\n",
    "tree_data.drop(['soil_type', 'WA_type'], axis=1, inplace=True)"
   ]
  },
  {
   "cell_type": "code",
   "execution_count": 4,
   "metadata": {},
   "outputs": [
    {
     "data": {
      "text/html": [
       "<div>\n",
       "<style>\n",
       "    .dataframe thead tr:only-child th {\n",
       "        text-align: right;\n",
       "    }\n",
       "\n",
       "    .dataframe thead th {\n",
       "        text-align: left;\n",
       "    }\n",
       "\n",
       "    .dataframe tbody tr th {\n",
       "        vertical-align: top;\n",
       "    }\n",
       "</style>\n",
       "<table border=\"1\" class=\"dataframe\">\n",
       "  <thead>\n",
       "    <tr style=\"text-align: right;\">\n",
       "      <th></th>\n",
       "      <th>Elevation</th>\n",
       "      <th>Aspect</th>\n",
       "      <th>Slope</th>\n",
       "      <th>hDist_Water</th>\n",
       "      <th>vDist_Water</th>\n",
       "      <th>hDist_Road</th>\n",
       "      <th>shade_9am</th>\n",
       "      <th>shade_noon</th>\n",
       "      <th>shade_3pm</th>\n",
       "      <th>hDist_Fire</th>\n",
       "      <th>WA1</th>\n",
       "      <th>WA2</th>\n",
       "      <th>WA3</th>\n",
       "      <th>WA4</th>\n",
       "      <th>ST1</th>\n",
       "      <th>ST2</th>\n",
       "      <th>ST3</th>\n",
       "      <th>ST4</th>\n",
       "      <th>ST5</th>\n",
       "      <th>ST6</th>\n",
       "      <th>ST8</th>\n",
       "      <th>ST9</th>\n",
       "      <th>ST10</th>\n",
       "      <th>ST11</th>\n",
       "      <th>ST12</th>\n",
       "      <th>ST13</th>\n",
       "      <th>ST14</th>\n",
       "      <th>ST16</th>\n",
       "      <th>ST17</th>\n",
       "      <th>ST18</th>\n",
       "      <th>ST19</th>\n",
       "      <th>ST20</th>\n",
       "      <th>ST21</th>\n",
       "      <th>ST22</th>\n",
       "      <th>ST23</th>\n",
       "      <th>ST24</th>\n",
       "      <th>ST25</th>\n",
       "      <th>ST26</th>\n",
       "      <th>ST27</th>\n",
       "      <th>ST28</th>\n",
       "      <th>ST29</th>\n",
       "      <th>ST30</th>\n",
       "      <th>ST31</th>\n",
       "      <th>ST32</th>\n",
       "      <th>ST33</th>\n",
       "      <th>ST34</th>\n",
       "      <th>ST35</th>\n",
       "      <th>ST36</th>\n",
       "      <th>ST37</th>\n",
       "      <th>ST38</th>\n",
       "      <th>ST39</th>\n",
       "      <th>ST40</th>\n",
       "      <th>Tree_Type</th>\n",
       "    </tr>\n",
       "    <tr>\n",
       "      <th>Id</th>\n",
       "      <th></th>\n",
       "      <th></th>\n",
       "      <th></th>\n",
       "      <th></th>\n",
       "      <th></th>\n",
       "      <th></th>\n",
       "      <th></th>\n",
       "      <th></th>\n",
       "      <th></th>\n",
       "      <th></th>\n",
       "      <th></th>\n",
       "      <th></th>\n",
       "      <th></th>\n",
       "      <th></th>\n",
       "      <th></th>\n",
       "      <th></th>\n",
       "      <th></th>\n",
       "      <th></th>\n",
       "      <th></th>\n",
       "      <th></th>\n",
       "      <th></th>\n",
       "      <th></th>\n",
       "      <th></th>\n",
       "      <th></th>\n",
       "      <th></th>\n",
       "      <th></th>\n",
       "      <th></th>\n",
       "      <th></th>\n",
       "      <th></th>\n",
       "      <th></th>\n",
       "      <th></th>\n",
       "      <th></th>\n",
       "      <th></th>\n",
       "      <th></th>\n",
       "      <th></th>\n",
       "      <th></th>\n",
       "      <th></th>\n",
       "      <th></th>\n",
       "      <th></th>\n",
       "      <th></th>\n",
       "      <th></th>\n",
       "      <th></th>\n",
       "      <th></th>\n",
       "      <th></th>\n",
       "      <th></th>\n",
       "      <th></th>\n",
       "      <th></th>\n",
       "      <th></th>\n",
       "      <th></th>\n",
       "      <th></th>\n",
       "      <th></th>\n",
       "      <th></th>\n",
       "      <th></th>\n",
       "    </tr>\n",
       "  </thead>\n",
       "  <tbody>\n",
       "    <tr>\n",
       "      <th>1</th>\n",
       "      <td>2596</td>\n",
       "      <td>51</td>\n",
       "      <td>3</td>\n",
       "      <td>258</td>\n",
       "      <td>0</td>\n",
       "      <td>510</td>\n",
       "      <td>221</td>\n",
       "      <td>232</td>\n",
       "      <td>148</td>\n",
       "      <td>6279</td>\n",
       "      <td>1</td>\n",
       "      <td>0</td>\n",
       "      <td>0</td>\n",
       "      <td>0</td>\n",
       "      <td>0</td>\n",
       "      <td>0</td>\n",
       "      <td>0</td>\n",
       "      <td>0</td>\n",
       "      <td>0</td>\n",
       "      <td>0</td>\n",
       "      <td>0</td>\n",
       "      <td>0</td>\n",
       "      <td>0</td>\n",
       "      <td>0</td>\n",
       "      <td>0</td>\n",
       "      <td>0</td>\n",
       "      <td>0</td>\n",
       "      <td>0</td>\n",
       "      <td>0</td>\n",
       "      <td>0</td>\n",
       "      <td>0</td>\n",
       "      <td>0</td>\n",
       "      <td>0</td>\n",
       "      <td>0</td>\n",
       "      <td>0</td>\n",
       "      <td>0</td>\n",
       "      <td>0</td>\n",
       "      <td>0</td>\n",
       "      <td>0</td>\n",
       "      <td>0</td>\n",
       "      <td>1</td>\n",
       "      <td>0</td>\n",
       "      <td>0</td>\n",
       "      <td>0</td>\n",
       "      <td>0</td>\n",
       "      <td>0</td>\n",
       "      <td>0</td>\n",
       "      <td>0</td>\n",
       "      <td>0</td>\n",
       "      <td>0</td>\n",
       "      <td>0</td>\n",
       "      <td>0</td>\n",
       "      <td>5</td>\n",
       "    </tr>\n",
       "    <tr>\n",
       "      <th>2</th>\n",
       "      <td>2590</td>\n",
       "      <td>56</td>\n",
       "      <td>2</td>\n",
       "      <td>212</td>\n",
       "      <td>-6</td>\n",
       "      <td>390</td>\n",
       "      <td>220</td>\n",
       "      <td>235</td>\n",
       "      <td>151</td>\n",
       "      <td>6225</td>\n",
       "      <td>1</td>\n",
       "      <td>0</td>\n",
       "      <td>0</td>\n",
       "      <td>0</td>\n",
       "      <td>0</td>\n",
       "      <td>0</td>\n",
       "      <td>0</td>\n",
       "      <td>0</td>\n",
       "      <td>0</td>\n",
       "      <td>0</td>\n",
       "      <td>0</td>\n",
       "      <td>0</td>\n",
       "      <td>0</td>\n",
       "      <td>0</td>\n",
       "      <td>0</td>\n",
       "      <td>0</td>\n",
       "      <td>0</td>\n",
       "      <td>0</td>\n",
       "      <td>0</td>\n",
       "      <td>0</td>\n",
       "      <td>0</td>\n",
       "      <td>0</td>\n",
       "      <td>0</td>\n",
       "      <td>0</td>\n",
       "      <td>0</td>\n",
       "      <td>0</td>\n",
       "      <td>0</td>\n",
       "      <td>0</td>\n",
       "      <td>0</td>\n",
       "      <td>0</td>\n",
       "      <td>1</td>\n",
       "      <td>0</td>\n",
       "      <td>0</td>\n",
       "      <td>0</td>\n",
       "      <td>0</td>\n",
       "      <td>0</td>\n",
       "      <td>0</td>\n",
       "      <td>0</td>\n",
       "      <td>0</td>\n",
       "      <td>0</td>\n",
       "      <td>0</td>\n",
       "      <td>0</td>\n",
       "      <td>5</td>\n",
       "    </tr>\n",
       "    <tr>\n",
       "      <th>3</th>\n",
       "      <td>2804</td>\n",
       "      <td>139</td>\n",
       "      <td>9</td>\n",
       "      <td>268</td>\n",
       "      <td>65</td>\n",
       "      <td>3180</td>\n",
       "      <td>234</td>\n",
       "      <td>238</td>\n",
       "      <td>135</td>\n",
       "      <td>6121</td>\n",
       "      <td>1</td>\n",
       "      <td>0</td>\n",
       "      <td>0</td>\n",
       "      <td>0</td>\n",
       "      <td>0</td>\n",
       "      <td>0</td>\n",
       "      <td>0</td>\n",
       "      <td>0</td>\n",
       "      <td>0</td>\n",
       "      <td>0</td>\n",
       "      <td>0</td>\n",
       "      <td>0</td>\n",
       "      <td>0</td>\n",
       "      <td>0</td>\n",
       "      <td>1</td>\n",
       "      <td>0</td>\n",
       "      <td>0</td>\n",
       "      <td>0</td>\n",
       "      <td>0</td>\n",
       "      <td>0</td>\n",
       "      <td>0</td>\n",
       "      <td>0</td>\n",
       "      <td>0</td>\n",
       "      <td>0</td>\n",
       "      <td>0</td>\n",
       "      <td>0</td>\n",
       "      <td>0</td>\n",
       "      <td>0</td>\n",
       "      <td>0</td>\n",
       "      <td>0</td>\n",
       "      <td>0</td>\n",
       "      <td>0</td>\n",
       "      <td>0</td>\n",
       "      <td>0</td>\n",
       "      <td>0</td>\n",
       "      <td>0</td>\n",
       "      <td>0</td>\n",
       "      <td>0</td>\n",
       "      <td>0</td>\n",
       "      <td>0</td>\n",
       "      <td>0</td>\n",
       "      <td>0</td>\n",
       "      <td>2</td>\n",
       "    </tr>\n",
       "    <tr>\n",
       "      <th>4</th>\n",
       "      <td>2785</td>\n",
       "      <td>155</td>\n",
       "      <td>18</td>\n",
       "      <td>242</td>\n",
       "      <td>118</td>\n",
       "      <td>3090</td>\n",
       "      <td>238</td>\n",
       "      <td>238</td>\n",
       "      <td>122</td>\n",
       "      <td>6211</td>\n",
       "      <td>1</td>\n",
       "      <td>0</td>\n",
       "      <td>0</td>\n",
       "      <td>0</td>\n",
       "      <td>0</td>\n",
       "      <td>0</td>\n",
       "      <td>0</td>\n",
       "      <td>0</td>\n",
       "      <td>0</td>\n",
       "      <td>0</td>\n",
       "      <td>0</td>\n",
       "      <td>0</td>\n",
       "      <td>0</td>\n",
       "      <td>0</td>\n",
       "      <td>0</td>\n",
       "      <td>0</td>\n",
       "      <td>0</td>\n",
       "      <td>0</td>\n",
       "      <td>0</td>\n",
       "      <td>0</td>\n",
       "      <td>0</td>\n",
       "      <td>0</td>\n",
       "      <td>0</td>\n",
       "      <td>0</td>\n",
       "      <td>0</td>\n",
       "      <td>0</td>\n",
       "      <td>0</td>\n",
       "      <td>0</td>\n",
       "      <td>0</td>\n",
       "      <td>0</td>\n",
       "      <td>0</td>\n",
       "      <td>1</td>\n",
       "      <td>0</td>\n",
       "      <td>0</td>\n",
       "      <td>0</td>\n",
       "      <td>0</td>\n",
       "      <td>0</td>\n",
       "      <td>0</td>\n",
       "      <td>0</td>\n",
       "      <td>0</td>\n",
       "      <td>0</td>\n",
       "      <td>0</td>\n",
       "      <td>2</td>\n",
       "    </tr>\n",
       "    <tr>\n",
       "      <th>5</th>\n",
       "      <td>2595</td>\n",
       "      <td>45</td>\n",
       "      <td>2</td>\n",
       "      <td>153</td>\n",
       "      <td>-1</td>\n",
       "      <td>391</td>\n",
       "      <td>220</td>\n",
       "      <td>234</td>\n",
       "      <td>150</td>\n",
       "      <td>6172</td>\n",
       "      <td>1</td>\n",
       "      <td>0</td>\n",
       "      <td>0</td>\n",
       "      <td>0</td>\n",
       "      <td>0</td>\n",
       "      <td>0</td>\n",
       "      <td>0</td>\n",
       "      <td>0</td>\n",
       "      <td>0</td>\n",
       "      <td>0</td>\n",
       "      <td>0</td>\n",
       "      <td>0</td>\n",
       "      <td>0</td>\n",
       "      <td>0</td>\n",
       "      <td>0</td>\n",
       "      <td>0</td>\n",
       "      <td>0</td>\n",
       "      <td>0</td>\n",
       "      <td>0</td>\n",
       "      <td>0</td>\n",
       "      <td>0</td>\n",
       "      <td>0</td>\n",
       "      <td>0</td>\n",
       "      <td>0</td>\n",
       "      <td>0</td>\n",
       "      <td>0</td>\n",
       "      <td>0</td>\n",
       "      <td>0</td>\n",
       "      <td>0</td>\n",
       "      <td>0</td>\n",
       "      <td>1</td>\n",
       "      <td>0</td>\n",
       "      <td>0</td>\n",
       "      <td>0</td>\n",
       "      <td>0</td>\n",
       "      <td>0</td>\n",
       "      <td>0</td>\n",
       "      <td>0</td>\n",
       "      <td>0</td>\n",
       "      <td>0</td>\n",
       "      <td>0</td>\n",
       "      <td>0</td>\n",
       "      <td>5</td>\n",
       "    </tr>\n",
       "  </tbody>\n",
       "</table>\n",
       "</div>"
      ],
      "text/plain": [
       "    Elevation  Aspect  Slope  hDist_Water  vDist_Water  hDist_Road  shade_9am  \\\n",
       "Id                                                                              \n",
       "1        2596      51      3          258            0         510        221   \n",
       "2        2590      56      2          212           -6         390        220   \n",
       "3        2804     139      9          268           65        3180        234   \n",
       "4        2785     155     18          242          118        3090        238   \n",
       "5        2595      45      2          153           -1         391        220   \n",
       "\n",
       "    shade_noon  shade_3pm  hDist_Fire  WA1  WA2  WA3  WA4  ST1  ST2  ST3  ST4  \\\n",
       "Id                                                                              \n",
       "1          232        148        6279    1    0    0    0    0    0    0    0   \n",
       "2          235        151        6225    1    0    0    0    0    0    0    0   \n",
       "3          238        135        6121    1    0    0    0    0    0    0    0   \n",
       "4          238        122        6211    1    0    0    0    0    0    0    0   \n",
       "5          234        150        6172    1    0    0    0    0    0    0    0   \n",
       "\n",
       "    ST5  ST6  ST8  ST9  ST10  ST11  ST12  ST13  ST14  ST16  ST17  ST18  ST19  \\\n",
       "Id                                                                             \n",
       "1     0    0    0    0     0     0     0     0     0     0     0     0     0   \n",
       "2     0    0    0    0     0     0     0     0     0     0     0     0     0   \n",
       "3     0    0    0    0     0     0     1     0     0     0     0     0     0   \n",
       "4     0    0    0    0     0     0     0     0     0     0     0     0     0   \n",
       "5     0    0    0    0     0     0     0     0     0     0     0     0     0   \n",
       "\n",
       "    ST20  ST21  ST22  ST23  ST24  ST25  ST26  ST27  ST28  ST29  ST30  ST31  \\\n",
       "Id                                                                           \n",
       "1      0     0     0     0     0     0     0     0     0     1     0     0   \n",
       "2      0     0     0     0     0     0     0     0     0     1     0     0   \n",
       "3      0     0     0     0     0     0     0     0     0     0     0     0   \n",
       "4      0     0     0     0     0     0     0     0     0     0     1     0   \n",
       "5      0     0     0     0     0     0     0     0     0     1     0     0   \n",
       "\n",
       "    ST32  ST33  ST34  ST35  ST36  ST37  ST38  ST39  ST40  Tree_Type  \n",
       "Id                                                                   \n",
       "1      0     0     0     0     0     0     0     0     0          5  \n",
       "2      0     0     0     0     0     0     0     0     0          5  \n",
       "3      0     0     0     0     0     0     0     0     0          2  \n",
       "4      0     0     0     0     0     0     0     0     0          2  \n",
       "5      0     0     0     0     0     0     0     0     0          5  "
      ]
     },
     "execution_count": 4,
     "metadata": {},
     "output_type": "execute_result"
    }
   ],
   "source": [
    "tree_data.head()"
   ]
  },
  {
   "cell_type": "code",
   "execution_count": 5,
   "metadata": {},
   "outputs": [
    {
     "data": {
      "text/plain": [
       "(15120, 53)"
      ]
     },
     "execution_count": 5,
     "metadata": {},
     "output_type": "execute_result"
    }
   ],
   "source": [
    "tree_data.shape"
   ]
  },
  {
   "cell_type": "markdown",
   "metadata": {},
   "source": [
    "# This is my hold out test set to validate that my own model > built in model"
   ]
  },
  {
   "cell_type": "code",
   "execution_count": 6,
   "metadata": {
    "collapsed": true
   },
   "outputs": [],
   "source": [
    "import pandas as pd\n",
    "import numpy as np\n",
    "from sklearn.model_selection import train_test_split\n",
    "\n",
    "tree_data, tree_data_test = train_test_split(tree_data, test_size=0.2)"
   ]
  },
  {
   "cell_type": "code",
   "execution_count": 7,
   "metadata": {
    "collapsed": true
   },
   "outputs": [],
   "source": [
    "#use tree_data_test to verify which model does best!!!"
   ]
  },
  {
   "cell_type": "code",
   "execution_count": 8,
   "metadata": {
    "collapsed": true
   },
   "outputs": [],
   "source": [
    "tree_data_test.to_csv('tree_data_FINALTEST.csv')"
   ]
  },
  {
   "cell_type": "code",
   "execution_count": 9,
   "metadata": {
    "collapsed": true
   },
   "outputs": [],
   "source": [
    "tree_data.shape\n",
    "tree_data.to_csv('tree_data_FINALTRAIN.csv')"
   ]
  },
  {
   "cell_type": "markdown",
   "metadata": {},
   "source": [
    "# Model 1:"
   ]
  },
  {
   "cell_type": "markdown",
   "metadata": {},
   "source": [
    "# 1 (Tree Type = 1) Vs 0 (Tree Type = 2,3,4,5,6,7) - Make sure classes are BALANCED!"
   ]
  },
  {
   "cell_type": "code",
   "execution_count": 10,
   "metadata": {
    "collapsed": true
   },
   "outputs": [],
   "source": [
    "#create a copy of the original dataframe\n",
    "tree_data1 = tree_data.copy()"
   ]
  },
  {
   "cell_type": "code",
   "execution_count": 11,
   "metadata": {
    "collapsed": true
   },
   "outputs": [],
   "source": [
    "#set Tree_Type =1 --> 1 and all else to 0 for Tree_Type column\n",
    "tree_data1.Tree_Type = tree_data1.Tree_Type.replace(2, 0)\n",
    "tree_data1.Tree_Type = tree_data1.Tree_Type.replace(3, 0)\n",
    "tree_data1.Tree_Type = tree_data1.Tree_Type.replace(4, 0)\n",
    "tree_data1.Tree_Type = tree_data1.Tree_Type.replace(5, 0)\n",
    "tree_data1.Tree_Type = tree_data1.Tree_Type.replace(6, 0)\n",
    "tree_data1.Tree_Type = tree_data1.Tree_Type.replace(7, 0)"
   ]
  },
  {
   "cell_type": "code",
   "execution_count": 12,
   "metadata": {},
   "outputs": [
    {
     "data": {
      "text/plain": [
       "0    10385\n",
       "1     1711\n",
       "Name: Tree_Type, dtype: int64"
      ]
     },
     "execution_count": 12,
     "metadata": {},
     "output_type": "execute_result"
    }
   ],
   "source": [
    "tree_data1.Tree_Type.value_counts()"
   ]
  },
  {
   "cell_type": "markdown",
   "metadata": {
    "collapsed": true
   },
   "source": [
    "**i want the 0 value counts to be 1738 - BALANCING MY CLASSES OUT!**"
   ]
  },
  {
   "cell_type": "code",
   "execution_count": 13,
   "metadata": {},
   "outputs": [
    {
     "data": {
      "text/plain": [
       "0    1725\n",
       "1    1711\n",
       "Name: Tree_Type, dtype: int64"
      ]
     },
     "execution_count": 13,
     "metadata": {},
     "output_type": "execute_result"
    }
   ],
   "source": [
    "from sklearn.utils import resample\n",
    "\n",
    "#BALANCING MY CLASSES\n",
    "\n",
    "# Separate majority and minority classes\n",
    "t_data_0 = tree_data1[tree_data1.Tree_Type==0]\n",
    "t_data_1 = tree_data1[tree_data1.Tree_Type==1]\n",
    " \n",
    "# Downsample majority class\n",
    "t_data_0_downsampled = resample(t_data_0, replace=False, n_samples=1725,random_state=1234) \n",
    " \n",
    "# Combine minority class with downsampled majority class\n",
    "t_data = pd.concat([t_data_0_downsampled, t_data_1])\n",
    " \n",
    "# Display new class counts\n",
    "t_data.Tree_Type.value_counts()"
   ]
  },
  {
   "cell_type": "markdown",
   "metadata": {
    "collapsed": true
   },
   "source": [
    "### Choosing Predictor and Response Variables "
   ]
  },
  {
   "cell_type": "code",
   "execution_count": 14,
   "metadata": {
    "collapsed": true
   },
   "outputs": [],
   "source": [
    "X_train = t_data.iloc[:, [0,1,2,3,4,5,6,7,8,9,10,11,12,13,14,15,16,17,18,19,20,21,22,23,24,25,26,27,28,29,30,31,32,33,34,35,36,37,38,39,40,41,42,43,44,45,46,47,48,49,50,51]]\n",
    "y_train = t_data.Tree_Type"
   ]
  },
  {
   "cell_type": "markdown",
   "metadata": {},
   "source": [
    "### SVM Pipeline"
   ]
  },
  {
   "cell_type": "code",
   "execution_count": 15,
   "metadata": {
    "collapsed": true
   },
   "outputs": [],
   "source": [
    "\n",
    "from sklearn.cross_validation import train_test_split\n",
    "from sklearn.datasets import load_digits\n",
    "from sklearn.grid_search import GridSearchCV\n",
    "from sklearn.metrics import make_scorer, \\\n",
    "    hamming_loss\n",
    "from sklearn.pipeline import Pipeline\n",
    "from sklearn.preprocessing import StandardScaler, Imputer\n",
    "from sklearn.svm import SVC\n",
    "from sklearn.neighbors import KNeighborsClassifier"
   ]
  },
  {
   "cell_type": "code",
   "execution_count": 16,
   "metadata": {},
   "outputs": [
    {
     "data": {
      "text/plain": [
       "GridSearchCV(cv=2, error_score='raise',\n",
       "       estimator=Pipeline(memory=None,\n",
       "     steps=[('scale', StandardScaler(copy=True, with_mean=True, with_std=True)), ('svm', SVC(C=1.0, cache_size=200, class_weight=None, coef0=0.0,\n",
       "  decision_function_shape='ovr', degree=3, gamma='auto', kernel='rbf',\n",
       "  max_iter=-1, probability=True, random_state=None, shrinking=True,\n",
       "  tol=0.001, verbose=False))]),\n",
       "       fit_params={}, iid=True, n_jobs=1,\n",
       "       param_grid={'svm__C': [3, 6, 9, 12, 15, 50, 100, 1000], 'svm__gamma': [0.01, 0.05, 0.1, 0.5, 1]},\n",
       "       pre_dispatch='2*n_jobs', refit=True, scoring='accuracy', verbose=0)"
      ]
     },
     "execution_count": 16,
     "metadata": {},
     "output_type": "execute_result"
    }
   ],
   "source": [
    "#create pipeline\n",
    "pipe = Pipeline([('scale', StandardScaler(with_mean=True, with_std=True)), ('svm', SVC(probability=True))])\n",
    "#set param_grid\n",
    "param_grid = {'svm__C':[3,6,9,12,15, 50, 100, 1000], 'svm__gamma':[0.01, 0.05, 0.1, 0.5, 1]}\n",
    "#grid search through the parameters \n",
    "grid = GridSearchCV(pipe, cv=2, param_grid=param_grid, scoring='accuracy', refit=True)\n",
    "#fit it to my data \n",
    "grid.fit(X_train, y_train)"
   ]
  },
  {
   "cell_type": "code",
   "execution_count": 17,
   "metadata": {},
   "outputs": [
    {
     "data": {
      "text/plain": [
       "{'svm__C': 50, 'svm__gamma': 0.01}"
      ]
     },
     "execution_count": 17,
     "metadata": {},
     "output_type": "execute_result"
    }
   ],
   "source": [
    "grid.best_params_"
   ]
  },
  {
   "cell_type": "markdown",
   "metadata": {},
   "source": [
    "### Save this model"
   ]
  },
  {
   "cell_type": "code",
   "execution_count": 18,
   "metadata": {
    "collapsed": true
   },
   "outputs": [],
   "source": [
    "#save this model! can load it from here :)\n",
    "\n",
    "\n",
    "import pickle\n",
    "with open('model1_svm_onevsall.pickle', 'wb') as handle:\n",
    "    pickle.dump(grid, handle)"
   ]
  },
  {
   "cell_type": "code",
   "execution_count": 19,
   "metadata": {
    "collapsed": true
   },
   "outputs": [],
   "source": [
    "#to open:\n",
    "\n",
    "\n",
    "#with open('model1_svm_onevsall.pickle', \"rb\") as input_file1:\n",
    "    #model1 = pickle.load(input_file1)\n",
    "    \n",
    "#-----------------------------------------------------------------\n",
    "    \n",
    "#to use:\n",
    "\n",
    "#y_pred = model1.predict(X_test)"
   ]
  },
  {
   "cell_type": "markdown",
   "metadata": {},
   "source": [
    "# Model 2:"
   ]
  },
  {
   "cell_type": "markdown",
   "metadata": {},
   "source": [
    "# 1 (Tree_Type = 2), 0  (Tree Type = 1,3,4,5,6,7)"
   ]
  },
  {
   "cell_type": "code",
   "execution_count": 20,
   "metadata": {
    "collapsed": true
   },
   "outputs": [],
   "source": [
    "#create a copy of the original dataframe\n",
    "tree_data2 = tree_data.copy()"
   ]
  },
  {
   "cell_type": "code",
   "execution_count": 21,
   "metadata": {
    "collapsed": true
   },
   "outputs": [],
   "source": [
    "#set Tree_Type =2 --> 1 and all else to 0\n",
    "tree_data2.Tree_Type = tree_data2.Tree_Type.replace(1, 0)\n",
    "tree_data2.Tree_Type = tree_data2.Tree_Type.replace(2, 1)\n",
    "tree_data2.Tree_Type = tree_data2.Tree_Type.replace(3, 0)\n",
    "tree_data2.Tree_Type = tree_data2.Tree_Type.replace(4, 0)\n",
    "tree_data2.Tree_Type = tree_data2.Tree_Type.replace(5, 0)\n",
    "tree_data2.Tree_Type = tree_data2.Tree_Type.replace(6, 0)\n",
    "tree_data2.Tree_Type = tree_data2.Tree_Type.replace(7, 0)"
   ]
  },
  {
   "cell_type": "code",
   "execution_count": 22,
   "metadata": {},
   "outputs": [
    {
     "data": {
      "text/plain": [
       "0    10364\n",
       "1     1732\n",
       "Name: Tree_Type, dtype: int64"
      ]
     },
     "execution_count": 22,
     "metadata": {},
     "output_type": "execute_result"
    }
   ],
   "source": [
    "tree_data2.Tree_Type.value_counts()"
   ]
  },
  {
   "cell_type": "code",
   "execution_count": 23,
   "metadata": {},
   "outputs": [
    {
     "data": {
      "text/plain": [
       "1    1732\n",
       "0    1693\n",
       "Name: Tree_Type, dtype: int64"
      ]
     },
     "execution_count": 23,
     "metadata": {},
     "output_type": "execute_result"
    }
   ],
   "source": [
    "#BALANCING MY CLASSES\n",
    "\n",
    "# Separate majority and minority classes\n",
    "t_data_0 = tree_data2[tree_data2.Tree_Type==0]\n",
    "t_data_1 = tree_data2[tree_data2.Tree_Type==1]\n",
    " \n",
    "# Downsample majority class\n",
    "t_data_0_downsampled = resample(t_data_0, replace=False, n_samples=1693,random_state=1234) \n",
    " \n",
    "# Combine minority class with downsampled majority class\n",
    "t_data = pd.concat([t_data_0_downsampled, t_data_1])\n",
    " \n",
    "# Display new class counts\n",
    "t_data.Tree_Type.value_counts()"
   ]
  },
  {
   "cell_type": "markdown",
   "metadata": {},
   "source": [
    "### Choosing Predictor and Response Variables "
   ]
  },
  {
   "cell_type": "code",
   "execution_count": 24,
   "metadata": {
    "collapsed": true
   },
   "outputs": [],
   "source": [
    "X_train2 = t_data.iloc[:, [0,1,2,3,4,5,6,7,8,9,10,11,12,13,14,15,16,17,18,19,20,21,22,23,24,25,26,27,28,29,30,31,32,33,34,35,36,37,38,39,40,41,42,43,44,45,46,47,48,49,50,51]]\n",
    "y_train2 = t_data.Tree_Type"
   ]
  },
  {
   "cell_type": "markdown",
   "metadata": {},
   "source": [
    "### SVM Pipeline"
   ]
  },
  {
   "cell_type": "code",
   "execution_count": 25,
   "metadata": {},
   "outputs": [
    {
     "data": {
      "text/plain": [
       "GridSearchCV(cv=2, error_score='raise',\n",
       "       estimator=Pipeline(memory=None,\n",
       "     steps=[('scale', StandardScaler(copy=True, with_mean=True, with_std=True)), ('svm', SVC(C=1.0, cache_size=200, class_weight=None, coef0=0.0,\n",
       "  decision_function_shape='ovr', degree=3, gamma='auto', kernel='rbf',\n",
       "  max_iter=-1, probability=True, random_state=None, shrinking=True,\n",
       "  tol=0.001, verbose=False))]),\n",
       "       fit_params={}, iid=True, n_jobs=1,\n",
       "       param_grid={'svm__C': [3, 6, 9, 12, 15, 50, 100, 1000], 'svm__gamma': [0.01, 0.05, 0.1, 0.5, 1]},\n",
       "       pre_dispatch='2*n_jobs', refit=True, scoring='accuracy', verbose=0)"
      ]
     },
     "execution_count": 25,
     "metadata": {},
     "output_type": "execute_result"
    }
   ],
   "source": [
    "#create pipeline\n",
    "pipe = Pipeline([('scale', StandardScaler(with_mean=True, with_std=True)), ('svm', SVC(probability=True))])\n",
    "#set param_grid\n",
    "param_grid = {'svm__C':[3,6,9,12,15, 50, 100, 1000], 'svm__gamma':[0.01, 0.05, 0.1, 0.5, 1]}\n",
    "#grid search through the parameters \n",
    "grid2 = GridSearchCV(pipe, cv=2, param_grid=param_grid, scoring='accuracy', refit=True)\n",
    "#fit it to my data \n",
    "grid2.fit(X_train2, y_train2)"
   ]
  },
  {
   "cell_type": "code",
   "execution_count": 26,
   "metadata": {},
   "outputs": [
    {
     "data": {
      "text/plain": [
       "{'svm__C': 9, 'svm__gamma': 0.05}"
      ]
     },
     "execution_count": 26,
     "metadata": {},
     "output_type": "execute_result"
    }
   ],
   "source": [
    "grid2.best_params_"
   ]
  },
  {
   "cell_type": "markdown",
   "metadata": {},
   "source": [
    "### Save this model"
   ]
  },
  {
   "cell_type": "code",
   "execution_count": 27,
   "metadata": {
    "collapsed": true
   },
   "outputs": [],
   "source": [
    "#import pickle\n",
    "with open('model2_svm_onevsall.pickle', 'wb') as handle:\n",
    "    pickle.dump(grid2, handle)"
   ]
  },
  {
   "cell_type": "code",
   "execution_count": 28,
   "metadata": {
    "collapsed": true
   },
   "outputs": [],
   "source": [
    "#to open:\n",
    "\n",
    "\n",
    "#with open('model2_svm_onevsall.pickle', \"rb\") as input_file2:\n",
    "    #model2 = pickle.load(input_file2)\n",
    "    \n",
    "#-----------------------------------------------------------------\n",
    "    \n",
    "#to use:\n",
    "\n",
    "#y_pred = model2.predict(X_test)"
   ]
  },
  {
   "cell_type": "markdown",
   "metadata": {},
   "source": [
    "# Model 3 "
   ]
  },
  {
   "cell_type": "markdown",
   "metadata": {},
   "source": [
    "# 1 (Tree_Type = 3), 0 (Tree Type = 1,2,4,5,6,7)"
   ]
  },
  {
   "cell_type": "code",
   "execution_count": 29,
   "metadata": {
    "collapsed": true
   },
   "outputs": [],
   "source": [
    "#create a copy of the original dataframe\n",
    "tree_data3 = tree_data.copy()"
   ]
  },
  {
   "cell_type": "code",
   "execution_count": 30,
   "metadata": {
    "collapsed": true
   },
   "outputs": [],
   "source": [
    "#set Tree_Type =3 --> 1 and all else to 0\n",
    "tree_data3.Tree_Type = tree_data3.Tree_Type.replace(1, 0)\n",
    "tree_data3.Tree_Type = tree_data3.Tree_Type.replace(2, 0)\n",
    "tree_data3.Tree_Type = tree_data3.Tree_Type.replace(3, 1)\n",
    "tree_data3.Tree_Type = tree_data3.Tree_Type.replace(4, 0)\n",
    "tree_data3.Tree_Type = tree_data3.Tree_Type.replace(5, 0)\n",
    "tree_data3.Tree_Type = tree_data3.Tree_Type.replace(6, 0)\n",
    "tree_data3.Tree_Type = tree_data3.Tree_Type.replace(7, 0)"
   ]
  },
  {
   "cell_type": "code",
   "execution_count": 31,
   "metadata": {},
   "outputs": [
    {
     "data": {
      "text/plain": [
       "0    10392\n",
       "1     1704\n",
       "Name: Tree_Type, dtype: int64"
      ]
     },
     "execution_count": 31,
     "metadata": {},
     "output_type": "execute_result"
    }
   ],
   "source": [
    "tree_data3.Tree_Type.value_counts()"
   ]
  },
  {
   "cell_type": "code",
   "execution_count": 32,
   "metadata": {},
   "outputs": [
    {
     "data": {
      "text/plain": [
       "0    1766\n",
       "1    1704\n",
       "Name: Tree_Type, dtype: int64"
      ]
     },
     "execution_count": 32,
     "metadata": {},
     "output_type": "execute_result"
    }
   ],
   "source": [
    "#BALANCING MY CLASSES\n",
    "\n",
    "# Separate majority and minority classes\n",
    "t_data_0 = tree_data3[tree_data3.Tree_Type==0]\n",
    "t_data_1 = tree_data3[tree_data3.Tree_Type==1]\n",
    " \n",
    "# Downsample majority class\n",
    "t_data_0_downsampled = resample(t_data_0, replace=False, n_samples=1766,random_state=1234) \n",
    " \n",
    "# Combine minority class with downsampled majority class\n",
    "t_data = pd.concat([t_data_0_downsampled, t_data_1])\n",
    " \n",
    "# Display new class counts\n",
    "t_data.Tree_Type.value_counts()"
   ]
  },
  {
   "cell_type": "markdown",
   "metadata": {},
   "source": [
    "### Choosing Predictor and Response Variables"
   ]
  },
  {
   "cell_type": "code",
   "execution_count": 33,
   "metadata": {
    "collapsed": true
   },
   "outputs": [],
   "source": [
    "X_train3 = t_data.iloc[:, [0,1,2,3,4,5,6,7,8,9,10,11,12,13,14,15,16,17,18,19,20,21,22,23,24,25,26,27,28,29,30,31,32,33,34,35,36,37,38,39,40,41,42,43,44,45,46,47,48,49,50,51]]\n",
    "y_train3 = t_data.Tree_Type"
   ]
  },
  {
   "cell_type": "markdown",
   "metadata": {},
   "source": [
    "### SVM Pipeline"
   ]
  },
  {
   "cell_type": "code",
   "execution_count": 34,
   "metadata": {},
   "outputs": [
    {
     "data": {
      "text/plain": [
       "GridSearchCV(cv=2, error_score='raise',\n",
       "       estimator=Pipeline(memory=None,\n",
       "     steps=[('scale', StandardScaler(copy=True, with_mean=True, with_std=True)), ('svm', SVC(C=1.0, cache_size=200, class_weight=None, coef0=0.0,\n",
       "  decision_function_shape='ovr', degree=3, gamma='auto', kernel='rbf',\n",
       "  max_iter=-1, probability=True, random_state=None, shrinking=True,\n",
       "  tol=0.001, verbose=False))]),\n",
       "       fit_params={}, iid=True, n_jobs=1,\n",
       "       param_grid={'svm__C': [3, 6, 9, 12, 15, 50, 100, 1000], 'svm__gamma': [0.01, 0.05, 0.1, 0.5, 1]},\n",
       "       pre_dispatch='2*n_jobs', refit=True, scoring='accuracy', verbose=0)"
      ]
     },
     "execution_count": 34,
     "metadata": {},
     "output_type": "execute_result"
    }
   ],
   "source": [
    "#create pipeline\n",
    "pipe = Pipeline([('scale', StandardScaler(with_mean=True, with_std=True)), ('svm', SVC(probability=True))])\n",
    "#set param_grid\n",
    "param_grid = {'svm__C':[3,6,9,12,15, 50, 100, 1000], 'svm__gamma':[0.01, 0.05, 0.1, 0.5, 1]}\n",
    "#grid search through the parameters \n",
    "grid3 = GridSearchCV(pipe, cv=2, param_grid=param_grid, scoring='accuracy', refit=True)\n",
    "#fit it to my data \n",
    "grid3.fit(X_train3, y_train3)"
   ]
  },
  {
   "cell_type": "code",
   "execution_count": 35,
   "metadata": {},
   "outputs": [
    {
     "data": {
      "text/plain": [
       "{'svm__C': 1000, 'svm__gamma': 0.01}"
      ]
     },
     "execution_count": 35,
     "metadata": {},
     "output_type": "execute_result"
    }
   ],
   "source": [
    "grid3.best_params_"
   ]
  },
  {
   "cell_type": "markdown",
   "metadata": {},
   "source": [
    "### Save this model"
   ]
  },
  {
   "cell_type": "code",
   "execution_count": 36,
   "metadata": {
    "collapsed": true
   },
   "outputs": [],
   "source": [
    "#import pickle\n",
    "with open('model3_svm_onevsall.pickle', 'wb') as handle:\n",
    "    pickle.dump(grid3, handle)"
   ]
  },
  {
   "cell_type": "code",
   "execution_count": 37,
   "metadata": {
    "collapsed": true
   },
   "outputs": [],
   "source": [
    "#to open:\n",
    "\n",
    "\n",
    "#with open('model3_svm_onevsall.pickle', \"rb\") as input_file3:\n",
    "    #model3 = pickle.load(input_file3)\n",
    "    \n",
    "#-----------------------------------------------------------------\n",
    "    \n",
    "#to use:\n",
    "\n",
    "#y_pred = model3.predict(X_test)"
   ]
  },
  {
   "cell_type": "markdown",
   "metadata": {},
   "source": [
    "# Model 4"
   ]
  },
  {
   "cell_type": "markdown",
   "metadata": {},
   "source": [
    "# 1 (Tree_Type = 4), 0 (Tree Type = 1,2,3,5,6,7)"
   ]
  },
  {
   "cell_type": "code",
   "execution_count": 38,
   "metadata": {
    "collapsed": true
   },
   "outputs": [],
   "source": [
    "#create a copy of the original dataframe\n",
    "tree_data4 = tree_data.copy()"
   ]
  },
  {
   "cell_type": "code",
   "execution_count": 39,
   "metadata": {
    "collapsed": true
   },
   "outputs": [],
   "source": [
    "#set Tree_Type =4 --> 1 and all else to 0\n",
    "tree_data4.Tree_Type = tree_data4.Tree_Type.replace(1, 0)\n",
    "tree_data4.Tree_Type = tree_data4.Tree_Type.replace(2, 0)\n",
    "tree_data4.Tree_Type = tree_data4.Tree_Type.replace(3, 0)\n",
    "tree_data4.Tree_Type = tree_data4.Tree_Type.replace(4, 1)\n",
    "tree_data4.Tree_Type = tree_data4.Tree_Type.replace(5, 0)\n",
    "tree_data4.Tree_Type = tree_data4.Tree_Type.replace(6, 0)\n",
    "tree_data4.Tree_Type = tree_data4.Tree_Type.replace(7, 0)"
   ]
  },
  {
   "cell_type": "code",
   "execution_count": 40,
   "metadata": {},
   "outputs": [
    {
     "data": {
      "text/plain": [
       "0    10365\n",
       "1     1731\n",
       "Name: Tree_Type, dtype: int64"
      ]
     },
     "execution_count": 40,
     "metadata": {},
     "output_type": "execute_result"
    }
   ],
   "source": [
    "tree_data4.Tree_Type.value_counts()"
   ]
  },
  {
   "cell_type": "code",
   "execution_count": 41,
   "metadata": {},
   "outputs": [
    {
     "data": {
      "text/plain": [
       "0    1740\n",
       "1    1731\n",
       "Name: Tree_Type, dtype: int64"
      ]
     },
     "execution_count": 41,
     "metadata": {},
     "output_type": "execute_result"
    }
   ],
   "source": [
    "#BALANCING MY CLASSES\n",
    "\n",
    "# Separate majority and minority classes\n",
    "t_data_0 = tree_data4[tree_data4.Tree_Type==0]\n",
    "t_data_1 = tree_data4[tree_data4.Tree_Type==1]\n",
    " \n",
    "# Downsample majority class\n",
    "t_data_0_downsampled = resample(t_data_0, replace=False, n_samples=1740,random_state=1234) \n",
    " \n",
    "# Combine minority class with downsampled majority class\n",
    "t_data = pd.concat([t_data_0_downsampled, t_data_1])\n",
    " \n",
    "# Display new class counts\n",
    "t_data.Tree_Type.value_counts()"
   ]
  },
  {
   "cell_type": "markdown",
   "metadata": {},
   "source": [
    "### Choosing Predictor and Response Variables"
   ]
  },
  {
   "cell_type": "code",
   "execution_count": 42,
   "metadata": {
    "collapsed": true
   },
   "outputs": [],
   "source": [
    "X_train4 = t_data.iloc[:, [0,1,2,3,4,5,6,7,8,9,10,11,12,13,14,15,16,17,18,19,20,21,22,23,24,25,26,27,28,29,30,31,32,33,34,35,36,37,38,39,40,41,42,43,44,45,46,47,48,49,50,51]]\n",
    "y_train4 = t_data.Tree_Type"
   ]
  },
  {
   "cell_type": "markdown",
   "metadata": {},
   "source": [
    "### SVM Pipeline"
   ]
  },
  {
   "cell_type": "code",
   "execution_count": 43,
   "metadata": {},
   "outputs": [
    {
     "data": {
      "text/plain": [
       "GridSearchCV(cv=2, error_score='raise',\n",
       "       estimator=Pipeline(memory=None,\n",
       "     steps=[('scale', StandardScaler(copy=True, with_mean=True, with_std=True)), ('svm', SVC(C=1.0, cache_size=200, class_weight=None, coef0=0.0,\n",
       "  decision_function_shape='ovr', degree=3, gamma='auto', kernel='rbf',\n",
       "  max_iter=-1, probability=True, random_state=None, shrinking=True,\n",
       "  tol=0.001, verbose=False))]),\n",
       "       fit_params={}, iid=True, n_jobs=1,\n",
       "       param_grid={'svm__C': [3, 6, 9, 12, 15, 50, 100, 1000], 'svm__gamma': [0.01, 0.05, 0.1, 0.5, 1]},\n",
       "       pre_dispatch='2*n_jobs', refit=True, scoring='accuracy', verbose=0)"
      ]
     },
     "execution_count": 43,
     "metadata": {},
     "output_type": "execute_result"
    }
   ],
   "source": [
    "#create pipeline\n",
    "pipe = Pipeline([('scale', StandardScaler(with_mean=True, with_std=True)), ('svm', SVC(probability=True))])\n",
    "#set param_grid\n",
    "param_grid = {'svm__C':[3,6,9,12,15, 50, 100, 1000], 'svm__gamma':[0.01, 0.05, 0.1, 0.5, 1]}\n",
    "#grid search through the parameters \n",
    "grid4 = GridSearchCV(pipe, cv=2, param_grid=param_grid, scoring='accuracy', refit=True)\n",
    "#fit it to my data \n",
    "grid4.fit(X_train4, y_train4)"
   ]
  },
  {
   "cell_type": "code",
   "execution_count": 44,
   "metadata": {},
   "outputs": [
    {
     "data": {
      "text/plain": [
       "{'svm__C': 12, 'svm__gamma': 0.1}"
      ]
     },
     "execution_count": 44,
     "metadata": {},
     "output_type": "execute_result"
    }
   ],
   "source": [
    "grid4.best_params_"
   ]
  },
  {
   "cell_type": "code",
   "execution_count": 45,
   "metadata": {
    "collapsed": true
   },
   "outputs": [],
   "source": [
    "#import pickle\n",
    "with open('model4_svm_onevsall.pickle', 'wb') as handle:\n",
    "    pickle.dump(grid4, handle)"
   ]
  },
  {
   "cell_type": "code",
   "execution_count": 46,
   "metadata": {
    "collapsed": true
   },
   "outputs": [],
   "source": [
    "#to open:\n",
    "\n",
    "\n",
    "#with open('model4_svm_onevsall.pickle', \"rb\") as input_file4:\n",
    "    #model4 = pickle.load(input_file4)\n",
    "    \n",
    "#-----------------------------------------------------------------\n",
    "    \n",
    "#to use:\n",
    "\n",
    "#y_pred = model4.predict(X_test)"
   ]
  },
  {
   "cell_type": "markdown",
   "metadata": {},
   "source": [
    "# Model 5"
   ]
  },
  {
   "cell_type": "markdown",
   "metadata": {},
   "source": [
    "# 1 (Tree_Type = 5), 0 (Tree Type = 1,2,3,4,6,7)"
   ]
  },
  {
   "cell_type": "code",
   "execution_count": 47,
   "metadata": {
    "collapsed": true
   },
   "outputs": [],
   "source": [
    "#create a copy of the original dataframe\n",
    "tree_data5 = tree_data.copy()"
   ]
  },
  {
   "cell_type": "code",
   "execution_count": 48,
   "metadata": {
    "collapsed": true
   },
   "outputs": [],
   "source": [
    "#set Tree_Type =5 --> 1 and all else to 0\n",
    "tree_data5.Tree_Type = tree_data5.Tree_Type.replace(1, 0)\n",
    "tree_data5.Tree_Type = tree_data5.Tree_Type.replace(2, 0)\n",
    "tree_data5.Tree_Type = tree_data5.Tree_Type.replace(3, 0)\n",
    "tree_data5.Tree_Type = tree_data5.Tree_Type.replace(4, 0)\n",
    "tree_data5.Tree_Type = tree_data5.Tree_Type.replace(5, 1)\n",
    "tree_data5.Tree_Type = tree_data5.Tree_Type.replace(6, 0)\n",
    "tree_data5.Tree_Type = tree_data5.Tree_Type.replace(7, 0)"
   ]
  },
  {
   "cell_type": "code",
   "execution_count": 49,
   "metadata": {},
   "outputs": [
    {
     "data": {
      "text/plain": [
       "0    10355\n",
       "1     1741\n",
       "Name: Tree_Type, dtype: int64"
      ]
     },
     "execution_count": 49,
     "metadata": {},
     "output_type": "execute_result"
    }
   ],
   "source": [
    "tree_data5.Tree_Type.value_counts()"
   ]
  },
  {
   "cell_type": "code",
   "execution_count": 50,
   "metadata": {},
   "outputs": [
    {
     "data": {
      "text/plain": [
       "1    1741\n",
       "0    1723\n",
       "Name: Tree_Type, dtype: int64"
      ]
     },
     "execution_count": 50,
     "metadata": {},
     "output_type": "execute_result"
    }
   ],
   "source": [
    "#BALANCING MY CLASSES\n",
    "\n",
    "# Separate majority and minority classes\n",
    "t_data_0 = tree_data5[tree_data5.Tree_Type==0]\n",
    "t_data_1 = tree_data5[tree_data5.Tree_Type==1]\n",
    " \n",
    "# Downsample majority class\n",
    "t_data_0_downsampled = resample(t_data_0, replace=False, n_samples=1723,random_state=1234) \n",
    " \n",
    "# Combine minority class with downsampled majority class\n",
    "t_data = pd.concat([t_data_0_downsampled, t_data_1])\n",
    " \n",
    "# Display new class counts\n",
    "t_data.Tree_Type.value_counts()"
   ]
  },
  {
   "cell_type": "markdown",
   "metadata": {},
   "source": [
    "### Choosing Predictor and Response Variables"
   ]
  },
  {
   "cell_type": "code",
   "execution_count": 51,
   "metadata": {
    "collapsed": true
   },
   "outputs": [],
   "source": [
    "X_train5 = t_data.iloc[:, [0,1,2,3,4,5,6,7,8,9,10,11,12,13,14,15,16,17,18,19,20,21,22,23,24,25,26,27,28,29,30,31,32,33,34,35,36,37,38,39,40,41,42,43,44,45,46,47,48,49,50,51]]\n",
    "y_train5 = t_data.Tree_Type"
   ]
  },
  {
   "cell_type": "markdown",
   "metadata": {},
   "source": [
    "### SVM Pipeline"
   ]
  },
  {
   "cell_type": "code",
   "execution_count": 52,
   "metadata": {},
   "outputs": [
    {
     "data": {
      "text/plain": [
       "GridSearchCV(cv=2, error_score='raise',\n",
       "       estimator=Pipeline(memory=None,\n",
       "     steps=[('scale', StandardScaler(copy=True, with_mean=True, with_std=True)), ('svm', SVC(C=1.0, cache_size=200, class_weight=None, coef0=0.0,\n",
       "  decision_function_shape='ovr', degree=3, gamma='auto', kernel='rbf',\n",
       "  max_iter=-1, probability=True, random_state=None, shrinking=True,\n",
       "  tol=0.001, verbose=False))]),\n",
       "       fit_params={}, iid=True, n_jobs=1,\n",
       "       param_grid={'svm__C': [3, 6, 9, 12, 15, 50, 100, 1000], 'svm__gamma': [0.01, 0.05, 0.1, 0.5, 1]},\n",
       "       pre_dispatch='2*n_jobs', refit=True, scoring='accuracy', verbose=0)"
      ]
     },
     "execution_count": 52,
     "metadata": {},
     "output_type": "execute_result"
    }
   ],
   "source": [
    "#create pipeline\n",
    "pipe = Pipeline([('scale', StandardScaler(with_mean=True, with_std=True)), ('svm', SVC(probability=True))])\n",
    "#set param_grid\n",
    "param_grid = {'svm__C':[3,6,9,12,15, 50, 100, 1000], 'svm__gamma':[0.01, 0.05, 0.1, 0.5, 1]}\n",
    "#grid search through the parameters \n",
    "grid5 = GridSearchCV(pipe, cv=2, param_grid=param_grid, scoring='accuracy', refit=True)\n",
    "#fit it to my data \n",
    "grid5.fit(X_train5, y_train5)"
   ]
  },
  {
   "cell_type": "code",
   "execution_count": 53,
   "metadata": {},
   "outputs": [
    {
     "data": {
      "text/plain": [
       "{'svm__C': 50, 'svm__gamma': 0.05}"
      ]
     },
     "execution_count": 53,
     "metadata": {},
     "output_type": "execute_result"
    }
   ],
   "source": [
    "grid5.best_params_"
   ]
  },
  {
   "cell_type": "markdown",
   "metadata": {},
   "source": [
    "### Save this model"
   ]
  },
  {
   "cell_type": "code",
   "execution_count": 54,
   "metadata": {
    "collapsed": true
   },
   "outputs": [],
   "source": [
    "#import pickle\n",
    "with open('model5_svm_onevsall.pickle', 'wb') as handle:\n",
    "    pickle.dump(grid5, handle)"
   ]
  },
  {
   "cell_type": "code",
   "execution_count": 55,
   "metadata": {
    "collapsed": true
   },
   "outputs": [],
   "source": [
    "#to open:\n",
    "\n",
    "\n",
    "#with open('model5_svm_onevsall.pickle', \"rb\") as input_file5:\n",
    "    #model5 = pickle.load(input_file5)\n",
    "    \n",
    "#-----------------------------------------------------------------\n",
    "    \n",
    "#to use:\n",
    "\n",
    "#y_pred = model5.predict(X_test)"
   ]
  },
  {
   "cell_type": "markdown",
   "metadata": {},
   "source": [
    "# Model 6"
   ]
  },
  {
   "cell_type": "markdown",
   "metadata": {},
   "source": [
    "# 1 (Tree_Type = 6), 0 (Tree Type = 1,2,3,4,5,7)"
   ]
  },
  {
   "cell_type": "code",
   "execution_count": 56,
   "metadata": {
    "collapsed": true
   },
   "outputs": [],
   "source": [
    "#create a copy of the original dataframe\n",
    "tree_data6 = tree_data.copy()"
   ]
  },
  {
   "cell_type": "code",
   "execution_count": 57,
   "metadata": {
    "collapsed": true
   },
   "outputs": [],
   "source": [
    "#set Tree_Type =6 --> 1 and all else to 0\n",
    "tree_data6.Tree_Type = tree_data6.Tree_Type.replace(1, 0)\n",
    "tree_data6.Tree_Type = tree_data6.Tree_Type.replace(2, 0)\n",
    "tree_data6.Tree_Type = tree_data6.Tree_Type.replace(3, 0)\n",
    "tree_data6.Tree_Type = tree_data6.Tree_Type.replace(4, 0)\n",
    "tree_data6.Tree_Type = tree_data6.Tree_Type.replace(5, 0)\n",
    "tree_data6.Tree_Type = tree_data6.Tree_Type.replace(6, 1)\n",
    "tree_data6.Tree_Type = tree_data6.Tree_Type.replace(7, 0)"
   ]
  },
  {
   "cell_type": "code",
   "execution_count": 58,
   "metadata": {},
   "outputs": [
    {
     "data": {
      "text/plain": [
       "0    10348\n",
       "1     1748\n",
       "Name: Tree_Type, dtype: int64"
      ]
     },
     "execution_count": 58,
     "metadata": {},
     "output_type": "execute_result"
    }
   ],
   "source": [
    "tree_data6.Tree_Type.value_counts()"
   ]
  },
  {
   "cell_type": "code",
   "execution_count": 59,
   "metadata": {},
   "outputs": [
    {
     "data": {
      "text/plain": [
       "1    1748\n",
       "0    1726\n",
       "Name: Tree_Type, dtype: int64"
      ]
     },
     "execution_count": 59,
     "metadata": {},
     "output_type": "execute_result"
    }
   ],
   "source": [
    "#BALANCING MY CLASSES\n",
    "\n",
    "# Separate majority and minority classes\n",
    "t_data_0 = tree_data6[tree_data6.Tree_Type==0]\n",
    "t_data_1 = tree_data6[tree_data6.Tree_Type==1]\n",
    " \n",
    "# Downsample majority class\n",
    "t_data_0_downsampled = resample(t_data_0, replace=False, n_samples=1726,random_state=1234) \n",
    " \n",
    "# Combine minority class with downsampled majority class\n",
    "t_data = pd.concat([t_data_0_downsampled, t_data_1])\n",
    " \n",
    "# Display new class counts\n",
    "t_data.Tree_Type.value_counts()"
   ]
  },
  {
   "cell_type": "markdown",
   "metadata": {},
   "source": [
    "### Choosing Predictor and Response Variables"
   ]
  },
  {
   "cell_type": "code",
   "execution_count": 60,
   "metadata": {
    "collapsed": true
   },
   "outputs": [],
   "source": [
    "X_train6 = t_data.iloc[:, [0,1,2,3,4,5,6,7,8,9,10,11,12,13,14,15,16,17,18,19,20,21,22,23,24,25,26,27,28,29,30,31,32,33,34,35,36,37,38,39,40,41,42,43,44,45,46,47,48,49,50,51]]\n",
    "y_train6 = t_data.Tree_Type"
   ]
  },
  {
   "cell_type": "markdown",
   "metadata": {},
   "source": [
    "### SVM Pipeline"
   ]
  },
  {
   "cell_type": "code",
   "execution_count": 61,
   "metadata": {},
   "outputs": [
    {
     "data": {
      "text/plain": [
       "GridSearchCV(cv=2, error_score='raise',\n",
       "       estimator=Pipeline(memory=None,\n",
       "     steps=[('scale', StandardScaler(copy=True, with_mean=True, with_std=True)), ('svm', SVC(C=1.0, cache_size=200, class_weight=None, coef0=0.0,\n",
       "  decision_function_shape='ovr', degree=3, gamma='auto', kernel='rbf',\n",
       "  max_iter=-1, probability=True, random_state=None, shrinking=True,\n",
       "  tol=0.001, verbose=False))]),\n",
       "       fit_params={}, iid=True, n_jobs=1,\n",
       "       param_grid={'svm__C': [3, 6, 9, 12, 15, 50, 100, 1000], 'svm__gamma': [0.01, 0.05, 0.1, 0.5, 1]},\n",
       "       pre_dispatch='2*n_jobs', refit=True, scoring='accuracy', verbose=0)"
      ]
     },
     "execution_count": 61,
     "metadata": {},
     "output_type": "execute_result"
    }
   ],
   "source": [
    "#create pipeline\n",
    "pipe = Pipeline([('scale', StandardScaler(with_mean=True, with_std=True)), ('svm', SVC(probability=True))])\n",
    "#set param_grid\n",
    "param_grid = {'svm__C':[3,6,9,12,15, 50, 100, 1000], 'svm__gamma':[0.01, 0.05, 0.1, 0.5, 1]}\n",
    "#grid search through the parameters \n",
    "grid6 = GridSearchCV(pipe, cv=2, param_grid=param_grid, scoring='accuracy', refit=True)\n",
    "#fit it to my data \n",
    "grid6.fit(X_train6, y_train6)\n"
   ]
  },
  {
   "cell_type": "code",
   "execution_count": 62,
   "metadata": {},
   "outputs": [
    {
     "data": {
      "text/plain": [
       "{'svm__C': 9, 'svm__gamma': 0.05}"
      ]
     },
     "execution_count": 62,
     "metadata": {},
     "output_type": "execute_result"
    }
   ],
   "source": [
    "grid6.best_params_"
   ]
  },
  {
   "cell_type": "markdown",
   "metadata": {},
   "source": [
    "### Save this model"
   ]
  },
  {
   "cell_type": "code",
   "execution_count": 63,
   "metadata": {
    "collapsed": true
   },
   "outputs": [],
   "source": [
    "#import pickle\n",
    "with open('model6_svm_onevsall.pickle', 'wb') as handle:\n",
    "    pickle.dump(grid6, handle)"
   ]
  },
  {
   "cell_type": "code",
   "execution_count": 64,
   "metadata": {
    "collapsed": true
   },
   "outputs": [],
   "source": [
    "#to open:\n",
    "\n",
    "\n",
    "#with open('model6_svm_onevsall.pickle', \"rb\") as input_file6:\n",
    "    #model6 = pickle.load(input_file6)\n",
    "    \n",
    "#-----------------------------------------------------------------\n",
    "    \n",
    "#to use:\n",
    "\n",
    "#y_pred = model6.predict(X_test)"
   ]
  },
  {
   "cell_type": "markdown",
   "metadata": {},
   "source": [
    "# Model 7"
   ]
  },
  {
   "cell_type": "markdown",
   "metadata": {},
   "source": [
    "# 1 (Tree_Type = 7), 0 (Tree Type = 1,2,3,4,5,6)"
   ]
  },
  {
   "cell_type": "code",
   "execution_count": 65,
   "metadata": {
    "collapsed": true
   },
   "outputs": [],
   "source": [
    "#create a copy of the original dataframe\n",
    "tree_data7 = tree_data.copy()"
   ]
  },
  {
   "cell_type": "code",
   "execution_count": 66,
   "metadata": {
    "collapsed": true
   },
   "outputs": [],
   "source": [
    "#set Tree_Type =7 --> 1 and all else to 0\n",
    "tree_data7.Tree_Type = tree_data7.Tree_Type.replace(1, 0)\n",
    "tree_data7.Tree_Type = tree_data7.Tree_Type.replace(2, 0)\n",
    "tree_data7.Tree_Type = tree_data7.Tree_Type.replace(3, 0)\n",
    "tree_data7.Tree_Type = tree_data7.Tree_Type.replace(4, 0)\n",
    "tree_data7.Tree_Type = tree_data7.Tree_Type.replace(5, 0)\n",
    "tree_data7.Tree_Type = tree_data7.Tree_Type.replace(6, 0)\n",
    "tree_data7.Tree_Type = tree_data7.Tree_Type.replace(7, 1)"
   ]
  },
  {
   "cell_type": "code",
   "execution_count": 67,
   "metadata": {},
   "outputs": [
    {
     "data": {
      "text/plain": [
       "0    10367\n",
       "1     1729\n",
       "Name: Tree_Type, dtype: int64"
      ]
     },
     "execution_count": 67,
     "metadata": {},
     "output_type": "execute_result"
    }
   ],
   "source": [
    "tree_data7.Tree_Type.value_counts()"
   ]
  },
  {
   "cell_type": "code",
   "execution_count": 68,
   "metadata": {},
   "outputs": [
    {
     "data": {
      "text/plain": [
       "1    1729\n",
       "0    1723\n",
       "Name: Tree_Type, dtype: int64"
      ]
     },
     "execution_count": 68,
     "metadata": {},
     "output_type": "execute_result"
    }
   ],
   "source": [
    "#BALANCING MY CLASSES\n",
    "\n",
    "# Separate majority and minority classes\n",
    "t_data_0 = tree_data7[tree_data7.Tree_Type==0]\n",
    "t_data_1 = tree_data7[tree_data7.Tree_Type==1]\n",
    " \n",
    "# Downsample majority class\n",
    "t_data_0_downsampled = resample(t_data_0, replace=False, n_samples=1723,random_state=1234) \n",
    " \n",
    "# Combine minority class with downsampled majority class\n",
    "t_data = pd.concat([t_data_0_downsampled, t_data_1])\n",
    " \n",
    "# Display new class counts\n",
    "t_data.Tree_Type.value_counts()"
   ]
  },
  {
   "cell_type": "markdown",
   "metadata": {},
   "source": [
    "### Choosing Predictor and Response Variables"
   ]
  },
  {
   "cell_type": "code",
   "execution_count": 69,
   "metadata": {
    "collapsed": true
   },
   "outputs": [],
   "source": [
    "X_train7 = t_data.iloc[:, [0,1,2,3,4,5,6,7,8,9,10,11,12,13,14,15,16,17,18,19,20,21,22,23,24,25,26,27,28,29,30,31,32,33,34,35,36,37,38,39,40,41,42,43,44,45,46,47,48,49,50,51]]\n",
    "y_train7 = t_data.Tree_Type"
   ]
  },
  {
   "cell_type": "markdown",
   "metadata": {},
   "source": [
    "### SVM Pipeline"
   ]
  },
  {
   "cell_type": "code",
   "execution_count": 70,
   "metadata": {},
   "outputs": [
    {
     "data": {
      "text/plain": [
       "GridSearchCV(cv=2, error_score='raise',\n",
       "       estimator=Pipeline(memory=None,\n",
       "     steps=[('scale', StandardScaler(copy=True, with_mean=True, with_std=True)), ('svm', SVC(C=1.0, cache_size=200, class_weight=None, coef0=0.0,\n",
       "  decision_function_shape='ovr', degree=3, gamma='auto', kernel='rbf',\n",
       "  max_iter=-1, probability=True, random_state=None, shrinking=True,\n",
       "  tol=0.001, verbose=False))]),\n",
       "       fit_params={}, iid=True, n_jobs=1,\n",
       "       param_grid={'svm__C': [3, 6, 9, 12, 15, 50, 100, 1000], 'svm__gamma': [0.01, 0.05, 0.1, 0.5, 1]},\n",
       "       pre_dispatch='2*n_jobs', refit=True, scoring='accuracy', verbose=0)"
      ]
     },
     "execution_count": 70,
     "metadata": {},
     "output_type": "execute_result"
    }
   ],
   "source": [
    "#create pipeline\n",
    "pipe = Pipeline([('scale', StandardScaler(with_mean=True, with_std=True)), ('svm', SVC(probability=True))])\n",
    "#set param_grid\n",
    "param_grid = {'svm__C':[3,6,9,12,15, 50, 100, 1000], 'svm__gamma':[0.01, 0.05, 0.1, 0.5, 1]}\n",
    "#grid search through the parameters \n",
    "grid7 = GridSearchCV(pipe, cv=2, param_grid=param_grid, scoring='accuracy', refit=True)\n",
    "#fit it to my data \n",
    "grid7.fit(X_train7, y_train7)"
   ]
  },
  {
   "cell_type": "code",
   "execution_count": 71,
   "metadata": {},
   "outputs": [
    {
     "data": {
      "text/plain": [
       "{'svm__C': 100, 'svm__gamma': 0.01}"
      ]
     },
     "execution_count": 71,
     "metadata": {},
     "output_type": "execute_result"
    }
   ],
   "source": [
    "grid7.best_params_"
   ]
  },
  {
   "cell_type": "markdown",
   "metadata": {},
   "source": [
    "### Save this model"
   ]
  },
  {
   "cell_type": "code",
   "execution_count": 72,
   "metadata": {
    "collapsed": true
   },
   "outputs": [],
   "source": [
    "import pickle\n",
    "with open('model7_svm_onevsall.pickle', 'wb') as handle:\n",
    "    pickle.dump(grid7, handle)"
   ]
  },
  {
   "cell_type": "code",
   "execution_count": 73,
   "metadata": {
    "collapsed": true
   },
   "outputs": [],
   "source": [
    "#to open:\n",
    "\n",
    "\n",
    "#with open('model7_svm_onevsall.pickle', \"rb\") as input_file7:\n",
    "    #model7 = pickle.load(input_file7)\n",
    "    \n",
    "#-----------------------------------------------------------------\n",
    "    \n",
    "#to use:\n",
    "\n",
    "#y_pred = model7.predict(X_test)"
   ]
  }
 ],
 "metadata": {
  "kernelspec": {
   "display_name": "Python 3",
   "language": "python",
   "name": "python3"
  },
  "language_info": {
   "codemirror_mode": {
    "name": "ipython",
    "version": 3
   },
   "file_extension": ".py",
   "mimetype": "text/x-python",
   "name": "python",
   "nbconvert_exporter": "python",
   "pygments_lexer": "ipython3",
   "version": "3.6.3"
  }
 },
 "nbformat": 4,
 "nbformat_minor": 2
}
